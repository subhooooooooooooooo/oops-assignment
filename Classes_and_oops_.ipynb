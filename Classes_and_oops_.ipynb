{
  "nbformat": 4,
  "nbformat_minor": 0,
  "metadata": {
    "colab": {
      "provenance": []
    },
    "kernelspec": {
      "name": "python3",
      "display_name": "Python 3"
    },
    "language_info": {
      "name": "python"
    }
  },
  "cells": [
    {
      "cell_type": "code",
      "execution_count": 2,
      "metadata": {
        "colab": {
          "base_uri": "https://localhost:8080/"
        },
        "id": "6hXeZOva6YSB",
        "outputId": "8049878c-6a96-46fb-a009-0009ff960e1b"
      },
      "outputs": [
        {
          "output_type": "stream",
          "name": "stdout",
          "text": [
            "hello \n",
            "Bark\n"
          ]
        }
      ],
      "source": [
        "# 1. Create a parent class Animal with a method speak() that prints a generic message. Create a child class Dog that overrides the speak() method to print \"Bark!\".\n",
        "\n",
        "\n",
        "class animal:\n",
        "  def speak():\n",
        "    print(\"hello \")\n",
        "\n",
        "class dog:\n",
        "  def speak():\n",
        "    print(\"Bark\")\n",
        "\n",
        "\n",
        "animal.speak()\n",
        "dog.speak()"
      ]
    },
    {
      "cell_type": "code",
      "source": [
        "# 2. Write a program to create an abstract class Shape with a method area(). Derive classes Circle and Rectangle from it and implement the area() method in both\n",
        "\n",
        "from abc import ABC, abstractmethod\n",
        "import math\n",
        "\n",
        "class Shape(ABC):\n",
        "\n",
        "    @abstractmethod\n",
        "    def area(self):\n",
        "        pass\n",
        "\n",
        "class Circle(Shape):\n",
        "    def __init__(self, radius):\n",
        "        self.radius = radius\n",
        "\n",
        "    def area(self):\n",
        "        return math.pi * self.radius * self.radius\n",
        "\n",
        "class Rectangle(Shape):\n",
        "    def __init__(self, width, height):\n",
        "        self.width = width\n",
        "        self.height = height\n",
        "\n",
        "    def area(self):\n",
        "        return self.width * self.height\n",
        "\n",
        "if __name__ == '__main__':\n",
        "    circle = Circle(5)\n",
        "    rectangle = Rectangle(4, 6)\n",
        "\n",
        "    print(f\"Area of the circle: {circle.area():.2f}\")\n",
        "    print(f\"Area of the rectangle: {rectangle.area()}\")\n"
      ],
      "metadata": {
        "colab": {
          "base_uri": "https://localhost:8080/"
        },
        "id": "kQARnTGS69y6",
        "outputId": "b4b8bada-5f17-4a1d-9ade-e8647ef5b367"
      },
      "execution_count": 4,
      "outputs": [
        {
          "output_type": "stream",
          "name": "stdout",
          "text": [
            "Area of the circle: 78.54\n",
            "Area of the rectangle: 24\n"
          ]
        }
      ]
    },
    {
      "cell_type": "code",
      "source": [
        "\n",
        "# 3. Implement a multi-level inheritance scenario where a class Vehicle has an attribute type. Derive a class Car and further derive a class ElectricCar that adds a battery attribute.\n",
        "\n",
        "# Base class\n",
        "class Vehicle:\n",
        "    def __init__(self, vehicle_type):\n",
        "        self.vehicle_type = vehicle_type\n",
        "\n",
        "    def show_type(self):\n",
        "        print(f\"Vehicle type: {self.vehicle_type}\")\n",
        "\n",
        "# Derived class from Vehicle\n",
        "class Car(Vehicle):\n",
        "    def __init__(self, vehicle_type, brand):\n",
        "        super().__init__(vehicle_type)\n",
        "        self.brand = brand\n",
        "\n",
        "    def show_brand(self):\n",
        "        print(f\"Car brand: {self.brand}\")\n",
        "\n",
        "# Further derived class from Car\n",
        "class ElectricCar(Car):\n",
        "    def __init__(self, vehicle_type, brand, battery_capacity):\n",
        "        super().__init__(vehicle_type, brand)\n",
        "        self.battery_capacity = battery_capacity\n",
        "\n",
        "    def show_details(self):\n",
        "        self.show_type()\n",
        "        self.show_brand()\n",
        "        print(f\"Battery capacity: {self.battery_capacity} kWh\")\n",
        "\n",
        "# Test the classes\n",
        "if __name__ == '__main__':\n",
        "    tesla = ElectricCar(\"Four-wheeler\", \"Tesla\", 75)\n",
        "    tesla.show_details()\n"
      ],
      "metadata": {
        "colab": {
          "base_uri": "https://localhost:8080/"
        },
        "id": "xFOaUdGK7hED",
        "outputId": "8822c627-6123-4801-e2d8-039b56d3c7a8"
      },
      "execution_count": 3,
      "outputs": [
        {
          "output_type": "stream",
          "name": "stdout",
          "text": [
            "Vehicle type: Four-wheeler\n",
            "Car brand: Tesla\n",
            "Battery capacity: 75 kWh\n"
          ]
        }
      ]
    },
    {
      "cell_type": "code",
      "source": [
        "# 4 Demonstrate polymorphism by creating a base class Bird with a method fly(). Create two derived classes Sparrow and Penguin that override the fly() method.\n",
        "\n",
        "class Bird:\n",
        "    def fly(self):\n",
        "        print(\"This bird can fly.\")\n",
        "\n",
        "class Sparrow(Bird):\n",
        "    def fly(self):\n",
        "        print(\"Sparrow flies high in the sky!\")\n",
        "\n",
        "class Penguin(Bird):\n",
        "    def fly(self):\n",
        "        print(\"Penguins can't fly, but they swim very well!\")\n",
        "\n",
        "def bird_flight(bird):\n",
        "    bird.fly()\n",
        "\n",
        "if __name__ == '__main__':\n",
        "    b1 = Sparrow()\n",
        "    b2 = Penguin()\n",
        "\n",
        "    bird_flight(b1)\n",
        "    bird_flight(b2)\n"
      ],
      "metadata": {
        "colab": {
          "base_uri": "https://localhost:8080/"
        },
        "id": "ZFT_3TmI7sFW",
        "outputId": "1a901dfa-e42d-43a7-cfb7-2987c3e19057"
      },
      "execution_count": 5,
      "outputs": [
        {
          "output_type": "stream",
          "name": "stdout",
          "text": [
            "Sparrow flies high in the sky!\n",
            "Penguins can't fly, but they swim very well!\n"
          ]
        }
      ]
    },
    {
      "cell_type": "code",
      "source": [
        "# 5  Write a program to demonstrate encapsulation by creating a class BankAccount with private attributes balance and methods to deposit, withdraw, and check balance.\n",
        "\n",
        "class BankAccount:\n",
        "    def __init__(self, account_holder, initial_balance=0):\n",
        "        self.account_holder = account_holder\n",
        "        self.__balance = initial_balance\n",
        "\n",
        "    def deposit(self, amount):\n",
        "        if amount > 0:\n",
        "            self.__balance += amount\n",
        "            print(f\"Deposited ₹{amount}.\")\n",
        "        else:\n",
        "            print(\"Deposit amount must be positive.\")\n",
        "\n",
        "    def withdraw(self, amount):\n",
        "        if 0 < amount <= self.__balance:\n",
        "            self.__balance -= amount\n",
        "            print(f\"Withdrew ₹{amount}.\")\n",
        "        else:\n",
        "            print(\"Insufficient balance or invalid amount.\")\n",
        "\n",
        "    def check_balance(self):\n",
        "        print(f\"Account holder: {self.account_holder}\")\n",
        "        print(f\"Current balance: ₹{self.__balance}\")\n",
        "\n",
        "\n",
        "if __name__ == '__main__':\n",
        "    account = BankAccount(\"Subho Baug\", 10000)\n",
        "\n",
        "    account.check_balance()\n",
        "    account.deposit(5000)\n",
        "    account.withdraw(3000)\n",
        "    account.check_balance()\n",
        "\n",
        "    print(account.__balance)\n",
        "\n"
      ],
      "metadata": {
        "colab": {
          "base_uri": "https://localhost:8080/",
          "height": 297
        },
        "id": "Gad0IjGW8Hw0",
        "outputId": "4d831cc1-257c-4957-8115-c833081a6356"
      },
      "execution_count": 6,
      "outputs": [
        {
          "output_type": "stream",
          "name": "stdout",
          "text": [
            "Account holder: Subho Baug\n",
            "Current balance: ₹10000\n",
            "Deposited ₹5000.\n",
            "Withdrew ₹3000.\n",
            "Account holder: Subho Baug\n",
            "Current balance: ₹12000\n"
          ]
        },
        {
          "output_type": "error",
          "ename": "AttributeError",
          "evalue": "'BankAccount' object has no attribute '__balance'",
          "traceback": [
            "\u001b[0;31m---------------------------------------------------------------------------\u001b[0m",
            "\u001b[0;31mAttributeError\u001b[0m                            Traceback (most recent call last)",
            "\u001b[0;32m/tmp/ipython-input-6-3647374255.py\u001b[0m in \u001b[0;36m<cell line: 0>\u001b[0;34m()\u001b[0m\n\u001b[1;32m     33\u001b[0m     \u001b[0maccount\u001b[0m\u001b[0;34m.\u001b[0m\u001b[0mcheck_balance\u001b[0m\u001b[0;34m(\u001b[0m\u001b[0;34m)\u001b[0m\u001b[0;34m\u001b[0m\u001b[0;34m\u001b[0m\u001b[0m\n\u001b[1;32m     34\u001b[0m \u001b[0;34m\u001b[0m\u001b[0m\n\u001b[0;32m---> 35\u001b[0;31m     \u001b[0mprint\u001b[0m\u001b[0;34m(\u001b[0m\u001b[0maccount\u001b[0m\u001b[0;34m.\u001b[0m\u001b[0m__balance\u001b[0m\u001b[0;34m)\u001b[0m\u001b[0;34m\u001b[0m\u001b[0;34m\u001b[0m\u001b[0m\n\u001b[0m\u001b[1;32m     36\u001b[0m \u001b[0;34m\u001b[0m\u001b[0m\n",
            "\u001b[0;31mAttributeError\u001b[0m: 'BankAccount' object has no attribute '__balance'"
          ]
        }
      ]
    },
    {
      "cell_type": "code",
      "source": [
        "# 6  Demonstrate runtime polymorphism using a method play() in a base class Instrument. Derive classes Guitar and Piano that implement their own version of play().\n",
        "\n",
        "\n",
        "class Instrument:\n",
        "    def play(self):\n",
        "        print(\"Playing an instrument...\")\n",
        "\n",
        "\n",
        "class Guitar(Instrument):\n",
        "    def play(self):\n",
        "        print(\"Strumming the guitar strings!\")\n",
        "\n",
        "class Piano(Instrument):\n",
        "    def play(self):\n",
        "        print(\"Playing the piano keys!\")\n",
        "\n",
        "def perform(instrument):\n",
        "    instrument.play()\n",
        "\n",
        "if __name__ == '__main__':\n",
        "    instr1 = Guitar()\n",
        "    instr2 = Piano()\n",
        "\n",
        "    perform(instr1)\n",
        "    perform(instr2)\n"
      ],
      "metadata": {
        "colab": {
          "base_uri": "https://localhost:8080/"
        },
        "id": "NQ1x8rPt8dGy",
        "outputId": "2c9c17d0-e2b1-4636-b8c8-cee5402f5607"
      },
      "execution_count": 7,
      "outputs": [
        {
          "output_type": "stream",
          "name": "stdout",
          "text": [
            "Strumming the guitar strings!\n",
            "Playing the piano keys!\n"
          ]
        }
      ]
    },
    {
      "cell_type": "code",
      "source": [
        "\n",
        "# 7 Create a class MathOperations with a class method add_numbers() to add two numbers and a static method subtract_numbers() to subtract two numbers.\n",
        "\n",
        "class MathOperations:\n",
        "    @classmethod\n",
        "    def add_numbers(cls, a, b):\n",
        "        return a + b\n",
        "\n",
        "    @staticmethod\n",
        "    def subtract_numbers(a, b):\n",
        "        return a - b\n",
        "\n",
        "if __name__ == '__main__':\n",
        "    sum_result = MathOperations.add_numbers(10, 5)\n",
        "    print(f\"Sum: {sum_result}\")\n",
        "\n",
        "    diff_result = MathOperations.subtract_numbers(10, 5)\n",
        "    print(f\"Difference: {diff_result}\")\n"
      ],
      "metadata": {
        "colab": {
          "base_uri": "https://localhost:8080/"
        },
        "id": "GNlLLTZh82gh",
        "outputId": "60ddfac8-a863-4146-b294-ba4391086781"
      },
      "execution_count": 8,
      "outputs": [
        {
          "output_type": "stream",
          "name": "stdout",
          "text": [
            "Sum: 15\n",
            "Difference: 5\n"
          ]
        }
      ]
    },
    {
      "cell_type": "code",
      "source": [
        "# 8 mplement a class Person with a class method to count the total number of persons created.\n",
        "\n",
        "class Person:\n",
        "    person_count = 0\n",
        "\n",
        "    def __init__(self, name):\n",
        "        self.name = name\n",
        "        Person.person_count += 1\n",
        "\n",
        "    @classmethod\n",
        "    def total_persons(cls):\n",
        "        return cls.person_count\n",
        "\n",
        "if __name__ == '__main__':\n",
        "    p1 = Person(\"Alice\")\n",
        "    p2 = Person(\"Bob\")\n",
        "    p3 = Person(\"Charlie\")\n",
        "\n",
        "    print(f\"Total persons created: {Person.total_persons()}\")\n"
      ],
      "metadata": {
        "colab": {
          "base_uri": "https://localhost:8080/"
        },
        "id": "QNa3YhwV859L",
        "outputId": "ca8ec2d6-8ebd-4c27-e70d-b0e5bc3a1966"
      },
      "execution_count": 9,
      "outputs": [
        {
          "output_type": "stream",
          "name": "stdout",
          "text": [
            "Total persons created: 3\n"
          ]
        }
      ]
    },
    {
      "cell_type": "code",
      "source": [
        "# 9  Write a class Fraction with attributes numerator and denominator. Override the str method to display the fraction as \"numerator/denominator\".\n",
        "\n",
        "class Fraction:\n",
        "    def __init__(self, numerator, denominator):\n",
        "        self.numerator = numerator\n",
        "        if denominator == 0:\n",
        "            raise ValueError(\"Denominator cannot be zero.\")\n",
        "        self.denominator = denominator\n",
        "\n",
        "    def __str__(self):\n",
        "        return f\"{self.numerator}/{self.denominator}\"\n",
        "\n",
        "if __name__ == '__main__':\n",
        "    f1 = Fraction(3, 4)\n",
        "    f2 = Fraction(5, 1)\n",
        "\n",
        "    print(f1)\n",
        "    print(f2)\n"
      ],
      "metadata": {
        "colab": {
          "base_uri": "https://localhost:8080/"
        },
        "id": "cPev3NfJ9O-A",
        "outputId": "88ef9389-b265-4683-932c-645a87e45132"
      },
      "execution_count": 11,
      "outputs": [
        {
          "output_type": "stream",
          "name": "stdout",
          "text": [
            "3/4\n",
            "5/1\n"
          ]
        }
      ]
    },
    {
      "cell_type": "code",
      "source": [
        "# 10  Demonstrate operator overloading by creating a class Vector and overriding the add method to add two vectors.\n",
        "\n",
        "class Vector:\n",
        "    def __init__(self, x, y):\n",
        "        self.x = x\n",
        "        self.y = y\n",
        "\n",
        "\n",
        "    def __add__(self, other):\n",
        "        if isinstance(other, Vector):\n",
        "            return Vector(self.x + other.x, self.y + other.y)\n",
        "        return NotImplemented\n",
        "\n",
        "    def __str__(self):\n",
        "        return f\"Vector({self.x}, {self.y})\"\n",
        "\n",
        "if __name__ == '__main__':\n",
        "    v1 = Vector(2, 3)\n",
        "    v2 = Vector(4, 5)\n",
        "\n",
        "    v3 = v1 + v2\n",
        "\n",
        "    print(v1)\n",
        "    print(v2)\n",
        "    print(v3)\n"
      ],
      "metadata": {
        "colab": {
          "base_uri": "https://localhost:8080/"
        },
        "id": "dWW3938Q9UeO",
        "outputId": "152a1ee8-d4e7-41f1-f81b-b7a1a69e2ebb"
      },
      "execution_count": 12,
      "outputs": [
        {
          "output_type": "stream",
          "name": "stdout",
          "text": [
            "Vector(2, 3)\n",
            "Vector(4, 5)\n",
            "Vector(6, 8)\n"
          ]
        }
      ]
    },
    {
      "cell_type": "code",
      "source": [
        "# 11 Create a class Person with attributes name and age. Add a method greet() that prints \"Hello, my name is {name} and I am {age} years old.\"\n",
        "\n",
        "class Person:\n",
        "    def __init__(self, name, age):\n",
        "        self.name = name\n",
        "        self.age = age\n",
        "\n",
        "    def greet(self):\n",
        "        print(f\"Hello, my name is {self.name} and I am {self.age} years old.\")\n",
        "\n",
        "if __name__ == '__main__':\n",
        "    person1 = Person(\"Subho\", 25)\n",
        "    person1.greet()\n"
      ],
      "metadata": {
        "colab": {
          "base_uri": "https://localhost:8080/"
        },
        "id": "lsKn90tO9mfp",
        "outputId": "f3130c59-f603-4990-a8f0-6b7552b2f348"
      },
      "execution_count": 13,
      "outputs": [
        {
          "output_type": "stream",
          "name": "stdout",
          "text": [
            "Hello, my name is Subho and I am 25 years old.\n"
          ]
        }
      ]
    },
    {
      "cell_type": "code",
      "source": [
        "# 12 . Implement a class Student with attributes name and grades. Create a method average_grade() to compute the average of the grades.\n",
        "\n",
        "class Student:\n",
        "    def __init__(self, name, grades):\n",
        "        self.name = name\n",
        "        self.grades = grades\n",
        "\n",
        "    def average_grade(self):\n",
        "        if not self.grades:\n",
        "            return 0\n",
        "        return sum(self.grades) / len(self.grades)\n",
        "\n",
        "if __name__ == '__main__':\n",
        "    student1 = Student(\"Subho\", [85, 90, 78, 92])\n",
        "    print(f\"{student1.name}'s average grade: {student1.average_grade():.2f}\")\n"
      ],
      "metadata": {
        "colab": {
          "base_uri": "https://localhost:8080/"
        },
        "id": "AIFdTHwM9xem",
        "outputId": "87918e27-49c9-481f-9eea-8a6d3ecac580"
      },
      "execution_count": 14,
      "outputs": [
        {
          "output_type": "stream",
          "name": "stdout",
          "text": [
            "Subho's average grade: 86.25\n"
          ]
        }
      ]
    },
    {
      "cell_type": "code",
      "source": [
        "# 13 Create a class Rectangle with methods set_dimensions() to set the dimensions and area() to calculate the area\n",
        "\n",
        "class Rectangle:\n",
        "    def __init__(self):\n",
        "        self.length = 0\n",
        "        self.width = 0\n",
        "\n",
        "    def set_dimensions(self, length, width):\n",
        "        self.length = length\n",
        "        self.width = width\n",
        "\n",
        "    def area(self):\n",
        "        return self.length * self.width\n",
        "\n",
        "# Test the Rectangle class\n",
        "if __name__ == '__main__':\n",
        "    rect = Rectangle()\n",
        "    rect.set_dimensions(5, 3)\n",
        "    print(f\"Area of rectangle: {rect.area()}\")\n"
      ],
      "metadata": {
        "colab": {
          "base_uri": "https://localhost:8080/"
        },
        "id": "3M5NWyFr99F9",
        "outputId": "adeb1e75-cba0-47e0-dfd3-5f1f023fd6ab"
      },
      "execution_count": 15,
      "outputs": [
        {
          "output_type": "stream",
          "name": "stdout",
          "text": [
            "Area of rectangle: 15\n"
          ]
        }
      ]
    },
    {
      "cell_type": "code",
      "source": [
        "# 14 Create a class Employee with a method calculate_salary() that computes the salary based on hours worked and hourly rate. Create a derived class Manager that adds a bonus to the salary\n",
        "\n",
        "\n",
        "class Employee:\n",
        "    def __init__(self, name, hours_worked, hourly_rate):\n",
        "        self.name = name\n",
        "        self.hours_worked = hours_worked\n",
        "        self.hourly_rate = hourly_rate\n",
        "\n",
        "    def calculate_salary(self):\n",
        "        return self.hours_worked * self.hourly_rate\n",
        "\n",
        "class Manager(Employee):\n",
        "    def __init__(self, name, hours_worked, hourly_rate, bonus):\n",
        "        super().__init__(name, hours_worked, hourly_rate)\n",
        "        self.bonus = bonus\n",
        "\n",
        "    def calculate_salary(self):\n",
        "        base_salary = super().calculate_salary()\n",
        "        return base_salary + self.bonus\n",
        "\n",
        "if __name__ == '__main__':\n",
        "    emp = Employee(\"Alice\", 40, 20)\n",
        "    mgr = Manager(\"Bob\", 40, 20, 500)\n",
        "\n",
        "    print(f\"{emp.name}'s salary: ${emp.calculate_salary()}\")\n",
        "    print(f\"{mgr.name}'s salary: ${mgr.calculate_salary()}\")\n"
      ],
      "metadata": {
        "colab": {
          "base_uri": "https://localhost:8080/"
        },
        "id": "ymHZY0Gs-INK",
        "outputId": "df445536-c3b2-4c54-aabb-12bc54715a22"
      },
      "execution_count": 16,
      "outputs": [
        {
          "output_type": "stream",
          "name": "stdout",
          "text": [
            "Alice's salary: $800\n",
            "Bob's salary: $1300\n"
          ]
        }
      ]
    },
    {
      "cell_type": "code",
      "source": [
        "# 15  Create a class Product with attributes name, price, and quantity. Implement a method total_price() that calculates the total price of the product.\n",
        "\n",
        "class Product:\n",
        "    def __init__(self, name, price, quantity):\n",
        "        self.name = name\n",
        "        self.price = price\n",
        "        self.quantity = quantity\n",
        "\n",
        "    def total_price(self):\n",
        "        return self.price * self.quantity\n",
        "\n",
        "if __name__ == '__main__':\n",
        "    product = Product(\"Laptop\", 75000, 3)\n",
        "    print(f\"Total price for {product.quantity} {product.name}(s): ₹{product.total_price()}\")\n",
        "\n",
        "\n",
        "\n"
      ],
      "metadata": {
        "colab": {
          "base_uri": "https://localhost:8080/"
        },
        "id": "uR8irzx2-QrC",
        "outputId": "9298890b-f940-4915-f156-e99e3ba70353"
      },
      "execution_count": 18,
      "outputs": [
        {
          "output_type": "stream",
          "name": "stdout",
          "text": [
            "Total price for 3 Laptop(s): ₹225000\n"
          ]
        }
      ]
    },
    {
      "cell_type": "code",
      "source": [
        "# 16 Create a class Animal with an abstract method sound(). Create two derived classes Cow and Sheep that implement the sound() method.\n",
        "\n",
        "from abc import ABC, abstractmethod\n",
        "\n",
        "class Animal(ABC):\n",
        "    @abstractmethod\n",
        "    def sound(self):\n",
        "        pass\n",
        "\n",
        "class Cow(Animal):\n",
        "    def sound(self):\n",
        "        print(\"Cow says: Moo\")\n",
        "\n",
        "class Sheep(Animal):\n",
        "    def sound(self):\n",
        "        print(\"Sheep says: Baa\")\n",
        "\n",
        "if __name__ == '__main__':\n",
        "    cow = Cow()\n",
        "    sheep = Sheep()\n",
        "\n",
        "    cow.sound()\n",
        "    sheep.sound()\n"
      ],
      "metadata": {
        "colab": {
          "base_uri": "https://localhost:8080/"
        },
        "id": "YCRhEbW_-X0C",
        "outputId": "505ccac6-1286-4267-fb56-b05ffac47725"
      },
      "execution_count": 19,
      "outputs": [
        {
          "output_type": "stream",
          "name": "stdout",
          "text": [
            "Cow says: Moo\n",
            "Sheep says: Baa\n"
          ]
        }
      ]
    },
    {
      "cell_type": "code",
      "source": [
        "# 17 . Create a class Book with attributes title, author, and year_published. Add a method get_book_info() that returns a formatted string with the book's details\n",
        "\n",
        "class Book:\n",
        "    def __init__(self, title, author, year_published):\n",
        "        self.title = title\n",
        "        self.author = author\n",
        "        self.year_published = year_published\n",
        "\n",
        "    def get_book_info(self):\n",
        "        return f\"'{self.title}' by {self.author}, published in {self.year_published}\"\n",
        "\n",
        "if __name__ == '__main__':\n",
        "    book = Book(\"To Kill a Mockingbird\", \"Harper Lee\", 1960)\n",
        "    print(book.get_book_info())\n"
      ],
      "metadata": {
        "colab": {
          "base_uri": "https://localhost:8080/"
        },
        "id": "bxlBygVc-lFF",
        "outputId": "209060df-9032-4508-b939-7e43ee4cf832"
      },
      "execution_count": 20,
      "outputs": [
        {
          "output_type": "stream",
          "name": "stdout",
          "text": [
            "'To Kill a Mockingbird' by Harper Lee, published in 1960\n"
          ]
        }
      ]
    },
    {
      "cell_type": "code",
      "source": [
        "# 18  Create a class House with attributes address and price. Create a derived class Mansion that adds an attribute number_of_rooms.\n",
        "\n",
        "class House:\n",
        "    def __init__(self, address, price):\n",
        "        self.address = address\n",
        "        self.price = price\n",
        "\n",
        "    def get_info(self):\n",
        "        return f\"Address: {self.address}, Price: ${self.price}\"\n",
        "\n",
        "class Mansion(House):\n",
        "    def __init__(self, address, price, number_of_rooms):\n",
        "        super().__init__(address, price)\n",
        "        self.number_of_rooms = number_of_rooms\n",
        "\n",
        "    def get_info(self):\n",
        "        base_info = super().get_info()\n",
        "        return f\"{base_info}, Rooms: {self.number_of_rooms}\"\n",
        "\n",
        "if __name__ == '__main__':\n",
        "    house = House(\"123 Maple St\", 250000)\n",
        "    mansion = Mansion(\"456 Oak Ave\", 1200000, 10)\n",
        "\n",
        "    print(house.get_info())\n",
        "    print(mansion.get_info())\n"
      ],
      "metadata": {
        "colab": {
          "base_uri": "https://localhost:8080/"
        },
        "id": "DKwp-qm7-u5B",
        "outputId": "14162ff2-f3e0-4b60-8af8-6f5ce9267974"
      },
      "execution_count": 22,
      "outputs": [
        {
          "output_type": "stream",
          "name": "stdout",
          "text": [
            "Address: 123 Maple St, Price: $250000\n",
            "Address: 456 Oak Ave, Price: $1200000, Rooms: 10\n"
          ]
        }
      ]
    },
    {
      "cell_type": "code",
      "source": [],
      "metadata": {
        "id": "KItdB5ot-2we"
      },
      "execution_count": null,
      "outputs": []
    },
    {
      "cell_type": "markdown",
      "source": [
        "1 What is Object-Oriented Programming (OOP)+\n",
        "OOP is a programming style that uses objects and classes to organize code. It models real-world things and their interactions using concepts like inheritance, encapsulation, and polymorphism.\n",
        "\n",
        "2 What is a class in OOP+\n",
        "A class is a blueprint or template for creating objects. It defines properties (attributes) and behaviors (methods) that the objects created from it will have.\n",
        "\n",
        "3  What is an object in OOP?\n",
        "An object is an instance of a class. It represents a real-world entity with specific attributes and behaviors defined by its class.\n",
        "\n",
        "4 What is the difference between abstraction and encapsulation?\n",
        "Abstraction hides complex details and shows only the necessary features.\n",
        "\n",
        "Encapsulation hides the internal state of an object and restricts direct access to it, usually through private variables and methods.\n",
        "\n",
        "5 What are dunder methods in Python?\n",
        "Dunder methods (double underscore methods) are special methods like __init__, __str__, used to define object behavior, like initialization or string representation.\n",
        "\n",
        "6 Explain the concept of inheritance in OOP\n",
        "Inheritance allows a class (child) to inherit attributes and methods from another class (parent), enabling code reuse and creating a hierarchy.\n",
        "\n",
        "7  What is polymorphism in OOP?\n",
        "Polymorphism means \"many forms\". It allows methods to behave differently based on the object calling them, even if they have the same name.\n",
        "\n",
        "8 How is encapsulation achieved in Python?\n",
        "By using private variables (prefixing with double underscore __) and providing public methods to access or modify those variables.\n",
        "\n",
        "9  What is a constructor in Python?\n",
        "A constructor is a special method __init__ that runs when an object is created, used to initialize object attributes.\n",
        "\n",
        "10 What are class and static methods in Python?\n",
        "Class methods (using @classmethod) receive the class as the first argument and can modify class state.\n",
        "\n",
        "Static methods (using @staticmethod) don’t receive an implicit first argument and behave like regular functions inside a class.\n",
        "\n",
        "11 What is method overloading in Python?\n",
        "Python does not support traditional method overloading by default, but you can achieve it by using default arguments or checking types inside a method.\n",
        "\n",
        "\n",
        "12 What is method overriding in OOP?\n",
        "When a child class provides its own version of a method already defined in the parent class, it is called method overriding.\n",
        "\n",
        "\n",
        "\n",
        "13 What is a property decorator in Python?\n",
        "The @property decorator allows you to define methods in a class that you can access like attributes. It helps control getting, setting, and deleting values with simple syntax.\n",
        "\n",
        "14 Why is polymorphism important in OOP?\n",
        "Polymorphism lets objects of different classes be treated through the same interface, making code more flexible and easier to extend or maintain.\n",
        "\n",
        "\n",
        "15What is an abstract class in Python?\n",
        "An abstract class is a class that cannot be instantiated and usually contains one or more abstract methods (methods without implementation) that subclasses must implement.\n",
        "\n",
        "\n",
        "16 What are the advantages of OOP?\n",
        "Code reusability through inheritance,Easier to maintain and modify,Models real-world problems better and improves code organization with encapsulation and abstraction.\n",
        "\n",
        "17 What is the difference between a class variable and an instance variable?\n",
        "Class variable is shared among all instances of the class.Instance variable is unique to each object.\n",
        "\n",
        "18 What is multiple inheritance in Python?\n",
        "Multiple inheritance is when a class inherits from more than one parent class, gaining attributes and methods from all of them.\n",
        "\n",
        "\n",
        "19 Explain the purpose of __str__ and __repr__ methods in Python.\n",
        "__str__: Returns a user-friendly string representation of an object.\n",
        "\n",
        "__repr__: Returns an official string representation, useful for debugging.\n",
        "\n",
        "20 What is the significance of the super() function in Python?\n",
        "super() lets you call methods from a parent class inside a child class, helping to extend or modify behavior without rewriting code.\n",
        "\n",
        "21 What is the significance of the __del__ method in Python?\n",
        "__del__ is a destructor method called when an object is about to be destroyed, used to clean up resources like closing files.\n",
        "\n",
        "22 What is the difference between @staticmethod and @classmethod in Python?\n",
        "staticmethod doesn’t take any default arguments; it behaves like a regular function inside the class.\n",
        "\n",
        "@classmethod takes the class itself as the first argument (cls) and can modify class state.\n",
        "\n",
        "23 How does polymorphism work in Python with inheritance?\n",
        "A child class can override methods from its parent, and when you call the method on an object, Python decides at runtime which version to use based on the object’s class.\n",
        "\n",
        "\n",
        "24 What is method chaining in Python OOP?\n",
        "Method chaining lets you call multiple methods on the same object in a single line by having methods return self.\n",
        "\n",
        "\n",
        "25 What is the purpose of the __call__ method in Python?\n",
        "The __call__ method allows an object to be called like a function. Defining it lets you make instances behave like functions.\n",
        "\n",
        "\n",
        "\n"
      ],
      "metadata": {
        "id": "BZNXIDNd-9Az"
      }
    }
  ]
}